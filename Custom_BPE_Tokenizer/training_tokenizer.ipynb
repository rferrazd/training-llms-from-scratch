{
 "cells": [
  {
   "cell_type": "markdown",
   "id": "2b5f31cb",
   "metadata": {},
   "source": [
    "# Train the Custom Tokenizer"
   ]
  },
  {
   "cell_type": "code",
   "execution_count": 8,
   "id": "5eb56438",
   "metadata": {},
   "outputs": [],
   "source": [
    "from tokenizers import Tokenizer\n",
    "from tokenizers.models import BPE\n",
    "from tokenizers.trainers import BpeTrainer\n",
    "\n",
    "VOCAB_SIZE = 30000\n",
    "SPECIAL_TOKENS = [\n",
    "    \"[PAD]\",   # Padding token: used to pad sequences to the same length\n",
    "    \"[UNK]\",   # Unknown token: represents out-of-vocabulary or unknown words\n",
    "    \"[CLS]\",   # Classification token: often used as the first token for classification tasks\n",
    "    \"[SEP]\",   # Separator token: used to separate segments (e.g., sentence pairs)\n",
    "    \"[MASK]\",  # Mask token: used for masked language modeling (e.g., BERT pretraining)\n",
    "]\n",
    "\n"
   ]
  },
  {
   "cell_type": "code",
   "execution_count": null,
   "id": "6ee86ac8",
   "metadata": {},
   "outputs": [],
   "source": [
    "with open(\"wikitext2_train_cleaned.txt\", \"r\", encoding=\"utf-8\") as f:\n",
    "    # f.readlines() will take each line in txt and convert to an element\n",
    "    # in a list of type string\n",
    "    train_data = f.readlines()  # List of strings (one per line)\n"
   ]
  },
  {
   "cell_type": "code",
   "execution_count": null,
   "id": "8c004867",
   "metadata": {},
   "outputs": [
    {
     "data": {
      "text/plain": [
       "21115"
      ]
     },
     "execution_count": 6,
     "metadata": {},
     "output_type": "execute_result"
    }
   ],
   "source": [
    "len(train_data) # length = 21115"
   ]
  },
  {
   "cell_type": "code",
   "execution_count": 14,
   "id": "f883e0fc",
   "metadata": {},
   "outputs": [],
   "source": [
    "tokenizer = Tokenizer(BPE())\n",
    "trainer = BpeTrainer(\n",
    "    special_tokens=SPECIAL_TOKENS,\n",
    "    vocab_size = VOCAB_SIZE)\n"
   ]
  },
  {
   "cell_type": "code",
   "execution_count": 17,
   "id": "7f52a7f1",
   "metadata": {},
   "outputs": [
    {
     "name": "stdout",
     "output_type": "stream",
     "text": [
      "\n",
      "\n",
      "\n"
     ]
    }
   ],
   "source": [
    "def batch_iterator(data, batch_size=1000):\n",
    "    for i in range(0, len(data), batch_size):\n",
    "        yield data[i:i + batch_size]\n",
    "\n",
    "# Use it for training\n",
    "tokenizer.train_from_iterator(\n",
    "    batch_iterator(train_data, batch_size=1000), \n",
    "    trainer=trainer\n",
    ")"
   ]
  },
  {
   "cell_type": "code",
   "execution_count": 18,
   "id": "5342b378",
   "metadata": {},
   "outputs": [],
   "source": [
    "# Save the tokenizer\n",
    "tokenizer.save(\"my_tokenier\")"
   ]
  }
 ],
 "metadata": {
  "kernelspec": {
   "display_name": ".venv",
   "language": "python",
   "name": "python3"
  },
  "language_info": {
   "codemirror_mode": {
    "name": "ipython",
    "version": 3
   },
   "file_extension": ".py",
   "mimetype": "text/x-python",
   "name": "python",
   "nbconvert_exporter": "python",
   "pygments_lexer": "ipython3",
   "version": "3.13.3"
  }
 },
 "nbformat": 4,
 "nbformat_minor": 5
}
