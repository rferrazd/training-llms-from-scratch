{
 "cells": [
  {
   "cell_type": "markdown",
   "id": "2b5f31cb",
   "metadata": {},
   "source": [
    "# Train the Custom Tokenizer"
   ]
  },
  {
   "cell_type": "code",
   "execution_count": 14,
   "id": "5eb56438",
   "metadata": {},
   "outputs": [],
   "source": [
    "from tokenizers import Tokenizer\n",
    "from tokenizers.models import BPE\n",
    "from tokenizers.trainers import BpeTrainer\n",
    "\n",
    "VOCAB_SIZE = 30000\n",
    "SPECIAL_TOKENS = [\n",
    "    \"[PAD]\",   # Padding token: used to pad sequences to the same length\n",
    "    \"[UNK]\",   # Unknown token: represents out-of-vocabulary or unknown words\n",
    "    \"[CLS]\",   # Classification token: often used as the first token for classification tasks\n",
    "    \"[SEP]\",   # Separator token: used to separate segments (e.g., sentence pairs)\n",
    "    \"[MASK]\",  # Mask token: used for masked language modeling (e.g., BERT pretraining)\n",
    "]\n"
   ]
  },
  {
   "cell_type": "code",
   "execution_count": 16,
   "id": "6ee86ac8",
   "metadata": {},
   "outputs": [
    {
     "name": "stdout",
     "output_type": "stream",
     "text": [
      "\n",
      "\n",
      "\n",
      "Tokenizer vocabulary size:  30000\n"
     ]
    }
   ],
   "source": [
    "with open(\"wikitext2_train_cleaned.txt\", \"r\", encoding=\"utf-8\") as f:\n",
    "    # f.readlines() will take each line in txt and convert to an element\n",
    "    # in a list of type string\n",
    "    train_data = f.readlines()  # List of strings (one per line)\n",
    "tokenizer = Tokenizer(BPE())\n",
    "trainer = BpeTrainer(\n",
    "    special_tokens=SPECIAL_TOKENS,\n",
    "    vocab_size = VOCAB_SIZE)\n",
    "\n",
    "def batch_iterator(data, batch_size=1000): # needed for passing a list of strs to a to a HF Tokenizer\n",
    "    for i in range(0, len(data), batch_size):\n",
    "        yield data[i:i + batch_size]\n",
    "\n",
    "# Train the tokenizer with the batch_iterator \n",
    "tokenizer.train_from_iterator(\n",
    "    batch_iterator(train_data, batch_size=1000), \n",
    "    trainer=trainer\n",
    ")\n",
    "print(\"Tokenizer vocabulary size: \", tokenizer.get_vocab_size())"
   ]
  },
  {
   "cell_type": "code",
   "execution_count": 11,
   "id": "5342b378",
   "metadata": {},
   "outputs": [],
   "source": [
    "# Save the tokenizer\n",
    "tokenizer.save(\"my_tokenier\")"
   ]
  }
 ],
 "metadata": {
  "kernelspec": {
   "display_name": ".venv",
   "language": "python",
   "name": "python3"
  },
  "language_info": {
   "codemirror_mode": {
    "name": "ipython",
    "version": 3
   },
   "file_extension": ".py",
   "mimetype": "text/x-python",
   "name": "python",
   "nbconvert_exporter": "python",
   "pygments_lexer": "ipython3",
   "version": "3.13.3"
  }
 },
 "nbformat": 4,
 "nbformat_minor": 5
}
