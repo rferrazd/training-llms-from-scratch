{
 "cells": [
  {
   "cell_type": "markdown",
   "id": "aa27e805",
   "metadata": {},
   "source": [
    "# Dummy notebook to see how reader.py works"
   ]
  },
  {
   "cell_type": "code",
   "execution_count": null,
   "id": "60d9e6b0",
   "metadata": {},
   "outputs": [],
   "source": [
    "print(\"Hello World from the dummy notebook\")"
   ]
  },
  {
   "cell_type": "markdown",
   "id": "fbc06dea",
   "metadata": {},
   "source": [
    "Compute Pascal's Triangle"
   ]
  },
  {
   "cell_type": "code",
   "execution_count": 1,
   "id": "60528231",
   "metadata": {},
   "outputs": [
    {
     "name": "stdout",
     "output_type": "stream",
     "text": [
      "[1]\n",
      "[1, 1]\n",
      "[1, 2, 1]\n",
      "[1, 3, 3, 1]\n",
      "[1, 4, 6, 4, 1]\n"
     ]
    }
   ],
   "source": [
    "def pascals_triangle(n):\n",
    "    \"\"\"\n",
    "    Compute Pascal's Triangle up to n rows.\n",
    "\n",
    "    Args:\n",
    "        n (int): Number of rows.\n",
    "\n",
    "    Returns:\n",
    "        list of lists: Pascal's Triangle as a list of rows.\n",
    "    \"\"\"\n",
    "    triangle = []\n",
    "    for i in range(n):\n",
    "        if i == 0:\n",
    "            triangle.append([1])\n",
    "        else:\n",
    "            prev_row = triangle[-1]\n",
    "            row = [1]\n",
    "            for j in range(1, i):\n",
    "                row.append(prev_row[j-1] + prev_row[j])\n",
    "            row.append(1)\n",
    "            triangle.append(row)\n",
    "    return triangle\n",
    "\n",
    "# Example usage:\n",
    "rows = 5\n",
    "triangle = pascals_triangle(rows)\n",
    "for row in triangle:\n",
    "    print(row)\n"
   ]
  },
  {
   "cell_type": "code",
   "execution_count": null,
   "id": "c259e4fc",
   "metadata": {},
   "outputs": [],
   "source": []
  }
 ],
 "metadata": {
  "kernelspec": {
   "display_name": ".venv",
   "language": "python",
   "name": "python3"
  },
  "language_info": {
   "codemirror_mode": {
    "name": "ipython",
    "version": 3
   },
   "file_extension": ".py",
   "mimetype": "text/x-python",
   "name": "python",
   "nbconvert_exporter": "python",
   "pygments_lexer": "ipython3",
   "version": "3.13.3"
  }
 },
 "nbformat": 4,
 "nbformat_minor": 5
}
